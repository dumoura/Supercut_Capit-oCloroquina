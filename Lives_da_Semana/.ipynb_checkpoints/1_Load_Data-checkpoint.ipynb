{
 "cells": [
  {
   "cell_type": "code",
   "execution_count": null,
   "metadata": {},
   "outputs": [],
   "source": [
    "#!pip instal ... "
   ]
  },
  {
   "cell_type": "code",
   "execution_count": 1,
   "metadata": {},
   "outputs": [],
   "source": [
    "import pandas as pd\n",
    "import os"
   ]
  },
  {
   "cell_type": "code",
   "execution_count": 2,
   "metadata": {},
   "outputs": [],
   "source": [
    "cwd = os.getcwd()"
   ]
  },
  {
   "cell_type": "code",
   "execution_count": 3,
   "metadata": {},
   "outputs": [
    {
     "name": "stdout",
     "output_type": "stream",
     "text": [
      "/Users/dumoura/Dev/30Days/30Days_Python/Day_17/notebooks\n"
     ]
    }
   ],
   "source": [
    "print(cwd)"
   ]
  },
  {
   "cell_type": "code",
   "execution_count": 4,
   "metadata": {},
   "outputs": [],
   "source": [
    "BASE_DIR = os.path.dirname(cwd)\n",
    "DATA_DIR = os.path.join(BASE_DIR, \"data\")"
   ]
  },
  {
   "cell_type": "code",
   "execution_count": 6,
   "metadata": {},
   "outputs": [
    {
     "data": {
      "text/plain": [
       "['Pipfile', '.ipynb_checkpoints', 'data', 'notebooks']"
      ]
     },
     "execution_count": 6,
     "metadata": {},
     "output_type": "execute_result"
    }
   ],
   "source": [
    "os.listdir(BASE_DIR)"
   ]
  },
  {
   "cell_type": "code",
   "execution_count": 7,
   "metadata": {},
   "outputs": [
    {
     "data": {
      "text/plain": [
       "['2020.csv',\n",
       " '2021.csv',\n",
       " '2019.csv',\n",
       " '2018.csv',\n",
       " '2015.csv',\n",
       " '2016.csv',\n",
       " '2017.csv']"
      ]
     },
     "execution_count": 7,
     "metadata": {},
     "output_type": "execute_result"
    }
   ],
   "source": [
    "os.listdir(DATA_DIR)"
   ]
  },
  {
   "cell_type": "code",
   "execution_count": 23,
   "metadata": {},
   "outputs": [
    {
     "data": {
      "text/html": [
       "<div>\n",
       "<style scoped>\n",
       "    .dataframe tbody tr th:only-of-type {\n",
       "        vertical-align: middle;\n",
       "    }\n",
       "\n",
       "    .dataframe tbody tr th {\n",
       "        vertical-align: top;\n",
       "    }\n",
       "\n",
       "    .dataframe thead th {\n",
       "        text-align: right;\n",
       "    }\n",
       "</style>\n",
       "<table border=\"1\" class=\"dataframe\">\n",
       "  <thead>\n",
       "    <tr style=\"text-align: right;\">\n",
       "      <th></th>\n",
       "      <th>category</th>\n",
       "      <th>title</th>\n",
       "    </tr>\n",
       "  </thead>\n",
       "  <tbody>\n",
       "    <tr>\n",
       "      <th>0</th>\n",
       "      <td>Action</td>\n",
       "      <td>My awesome movie</td>\n",
       "    </tr>\n",
       "    <tr>\n",
       "      <th>1</th>\n",
       "      <td>Comedy</td>\n",
       "      <td>Data Joke one me</td>\n",
       "    </tr>\n",
       "  </tbody>\n",
       "</table>\n",
       "</div>"
      ],
      "text/plain": [
       "  category             title\n",
       "0   Action  My awesome movie\n",
       "1   Comedy  Data Joke one me"
      ]
     },
     "execution_count": 23,
     "metadata": {},
     "output_type": "execute_result"
    }
   ],
   "source": [
    "\n",
    "my_items = [{\"category\":\"Action\", \"title\":\"My awesome movie\"}, {\"category\":\"Comedy\", \"title\":\"Data Joke one me\"}]\n",
    "df = pd.DataFrame(my_items)\n",
    "df.head()"
   ]
  },
  {
   "cell_type": "code",
   "execution_count": 13,
   "metadata": {},
   "outputs": [
    {
     "data": {
      "text/plain": [
       "category              Action\n",
       "title       My awesome movie\n",
       "Name: 0, dtype: object"
      ]
     },
     "execution_count": 13,
     "metadata": {},
     "output_type": "execute_result"
    }
   ],
   "source": [
    "df.iloc[0]"
   ]
  },
  {
   "cell_type": "code",
   "execution_count": 22,
   "metadata": {},
   "outputs": [
    {
     "data": {
      "text/plain": [
       "category              Comedy\n",
       "title       Data Joke one me\n",
       "Name: 1, dtype: object"
      ]
     },
     "execution_count": 22,
     "metadata": {},
     "output_type": "execute_result"
    }
   ],
   "source": [
    "df.iloc[1]"
   ]
  },
  {
   "cell_type": "markdown",
   "metadata": {},
   "source": [
    "..."
   ]
  },
  {
   "cell_type": "code",
   "execution_count": 26,
   "metadata": {},
   "outputs": [
    {
     "data": {
      "text/html": [
       "<div>\n",
       "<style scoped>\n",
       "    .dataframe tbody tr th:only-of-type {\n",
       "        vertical-align: middle;\n",
       "    }\n",
       "\n",
       "    .dataframe tbody tr th {\n",
       "        vertical-align: top;\n",
       "    }\n",
       "\n",
       "    .dataframe thead th {\n",
       "        text-align: right;\n",
       "    }\n",
       "</style>\n",
       "<table border=\"1\" class=\"dataframe\">\n",
       "  <thead>\n",
       "    <tr style=\"text-align: right;\">\n",
       "      <th></th>\n",
       "      <th>Rank</th>\n",
       "      <th>Release Group</th>\n",
       "      <th>Worldwide</th>\n",
       "      <th>Domestic</th>\n",
       "      <th>%</th>\n",
       "      <th>Foreign</th>\n",
       "      <th>%.1</th>\n",
       "    </tr>\n",
       "  </thead>\n",
       "  <tbody>\n",
       "    <tr>\n",
       "      <th>0</th>\n",
       "      <td>1</td>\n",
       "      <td>Star Wars: Episode VIII - The Last Jedi</td>\n",
       "      <td>$1,332,539,889</td>\n",
       "      <td>$620,181,382</td>\n",
       "      <td>46.5%</td>\n",
       "      <td>$712,358,507</td>\n",
       "      <td>53.5%</td>\n",
       "    </tr>\n",
       "    <tr>\n",
       "      <th>1</th>\n",
       "      <td>2</td>\n",
       "      <td>Beauty and the Beast</td>\n",
       "      <td>$1,263,521,126</td>\n",
       "      <td>$504,014,165</td>\n",
       "      <td>39.9%</td>\n",
       "      <td>$759,506,961</td>\n",
       "      <td>60.1%</td>\n",
       "    </tr>\n",
       "    <tr>\n",
       "      <th>2</th>\n",
       "      <td>3</td>\n",
       "      <td>The Fate of the Furious</td>\n",
       "      <td>$1,236,005,118</td>\n",
       "      <td>$226,008,385</td>\n",
       "      <td>18.3%</td>\n",
       "      <td>$1,009,996,733</td>\n",
       "      <td>81.7%</td>\n",
       "    </tr>\n",
       "    <tr>\n",
       "      <th>3</th>\n",
       "      <td>4</td>\n",
       "      <td>Despicable Me 3</td>\n",
       "      <td>$1,034,799,409</td>\n",
       "      <td>$264,624,300</td>\n",
       "      <td>25.6%</td>\n",
       "      <td>$770,175,109</td>\n",
       "      <td>74.4%</td>\n",
       "    </tr>\n",
       "    <tr>\n",
       "      <th>4</th>\n",
       "      <td>5</td>\n",
       "      <td>Jumanji: Welcome to the Jungle</td>\n",
       "      <td>$962,077,546</td>\n",
       "      <td>$404,515,480</td>\n",
       "      <td>42%</td>\n",
       "      <td>$557,562,066</td>\n",
       "      <td>58%</td>\n",
       "    </tr>\n",
       "    <tr>\n",
       "      <th>5</th>\n",
       "      <td>6</td>\n",
       "      <td>Spider-Man: Homecoming</td>\n",
       "      <td>$880,166,924</td>\n",
       "      <td>$334,201,140</td>\n",
       "      <td>38%</td>\n",
       "      <td>$545,965,784</td>\n",
       "      <td>62%</td>\n",
       "    </tr>\n",
       "    <tr>\n",
       "      <th>6</th>\n",
       "      <td>7</td>\n",
       "      <td>Wolf Warrior 2</td>\n",
       "      <td>$870,325,439</td>\n",
       "      <td>$2,721,100</td>\n",
       "      <td>0.3%</td>\n",
       "      <td>$867,604,339</td>\n",
       "      <td>99.7%</td>\n",
       "    </tr>\n",
       "    <tr>\n",
       "      <th>7</th>\n",
       "      <td>8</td>\n",
       "      <td>Guardians of the Galaxy Vol. 2</td>\n",
       "      <td>$863,756,051</td>\n",
       "      <td>$389,813,101</td>\n",
       "      <td>45.1%</td>\n",
       "      <td>$473,942,950</td>\n",
       "      <td>54.9%</td>\n",
       "    </tr>\n",
       "    <tr>\n",
       "      <th>8</th>\n",
       "      <td>9</td>\n",
       "      <td>Thor: Ragnarok</td>\n",
       "      <td>$853,977,126</td>\n",
       "      <td>$315,058,289</td>\n",
       "      <td>36.9%</td>\n",
       "      <td>$538,918,837</td>\n",
       "      <td>63.1%</td>\n",
       "    </tr>\n",
       "    <tr>\n",
       "      <th>9</th>\n",
       "      <td>10</td>\n",
       "      <td>Wonder Woman</td>\n",
       "      <td>$821,847,012</td>\n",
       "      <td>$412,563,408</td>\n",
       "      <td>50.2%</td>\n",
       "      <td>$409,283,604</td>\n",
       "      <td>49.8%</td>\n",
       "    </tr>\n",
       "  </tbody>\n",
       "</table>\n",
       "</div>"
      ],
      "text/plain": [
       "  Rank                            Release Group       Worldwide      Domestic  \\\n",
       "0    1  Star Wars: Episode VIII - The Last Jedi  $1,332,539,889  $620,181,382   \n",
       "1    2                     Beauty and the Beast  $1,263,521,126  $504,014,165   \n",
       "2    3                  The Fate of the Furious  $1,236,005,118  $226,008,385   \n",
       "3    4                          Despicable Me 3  $1,034,799,409  $264,624,300   \n",
       "4    5           Jumanji: Welcome to the Jungle    $962,077,546  $404,515,480   \n",
       "5    6                   Spider-Man: Homecoming    $880,166,924  $334,201,140   \n",
       "6    7                           Wolf Warrior 2    $870,325,439    $2,721,100   \n",
       "7    8           Guardians of the Galaxy Vol. 2    $863,756,051  $389,813,101   \n",
       "8    9                           Thor: Ragnarok    $853,977,126  $315,058,289   \n",
       "9   10                             Wonder Woman    $821,847,012  $412,563,408   \n",
       "\n",
       "       %         Foreign    %.1  \n",
       "0  46.5%    $712,358,507  53.5%  \n",
       "1  39.9%    $759,506,961  60.1%  \n",
       "2  18.3%  $1,009,996,733  81.7%  \n",
       "3  25.6%    $770,175,109  74.4%  \n",
       "4    42%    $557,562,066    58%  \n",
       "5    38%    $545,965,784    62%  \n",
       "6   0.3%    $867,604,339  99.7%  \n",
       "7  45.1%    $473,942,950  54.9%  \n",
       "8  36.9%    $538,918,837  63.1%  \n",
       "9  50.2%    $409,283,604  49.8%  "
      ]
     },
     "execution_count": 26,
     "metadata": {},
     "output_type": "execute_result"
    }
   ],
   "source": [
    "my_data = os.path.join(DATA_DIR, \"2017.csv\")\n",
    "df2 = pd.read_csv(my_data)\n",
    "df2.head(10)"
   ]
  },
  {
   "cell_type": "markdown",
   "metadata": {},
   "source": [
    "....\n",
    "## Crar"
   ]
  },
  {
   "cell_type": "code",
   "execution_count": null,
   "metadata": {},
   "outputs": [],
   "source": []
  }
 ],
 "metadata": {
  "kernelspec": {
   "display_name": "Python 3",
   "language": "python",
   "name": "python3"
  },
  "language_info": {
   "codemirror_mode": {
    "name": "ipython",
    "version": 3
   },
   "file_extension": ".py",
   "mimetype": "text/x-python",
   "name": "python",
   "nbconvert_exporter": "python",
   "pygments_lexer": "ipython3",
   "version": "3.8.5"
  }
 },
 "nbformat": 4,
 "nbformat_minor": 4
}
