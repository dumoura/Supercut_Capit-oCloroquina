{
 "cells": [
  {
   "cell_type": "markdown",
   "metadata": {},
   "source": [
    "# Setings\n",
    "\n",
    "Bibliotecas usadas:\n",
    "\n",
    "- datetime\n",
    "- pandas\n",
    "- matplotlib\n",
    "\n",
    "- sys\n",
    "- json\n",
    "- glob\n",
    "\n",
    "- webvtt\n",
    "\n",
    "Outros:\n",
    "\n",
    "- Youtube API (https://developers.google.com/youtube/v3)\n",
    "- Youtube-dl (https://youtube-dl.org/)"
   ]
  },
  {
   "cell_type": "markdown",
   "metadata": {},
   "source": [
    "## Configurações básicas \n",
    "\n",
    "- Bibliotecas usadas\n",
    "- Diretórios e locais de trabalho"
   ]
  },
  {
   "cell_type": "code",
   "execution_count": 1,
   "metadata": {},
   "outputs": [],
   "source": [
    "\n",
    "#!pip instal ... \n",
    "\n",
    "import os\n",
    "import pandas as pd\n",
    "from matplotlib import pyplot as plt\n",
    "\n",
    "import sys\n",
    "import datetime\n",
    "import json\n",
    "import glob\n",
    "\n",
    "import webvtt"
   ]
  },
  {
   "cell_type": "code",
   "execution_count": 2,
   "metadata": {},
   "outputs": [],
   "source": [
    "cwd = os.getcwd()\n",
    "#print(cwd)"
   ]
  },
  {
   "cell_type": "code",
   "execution_count": 3,
   "metadata": {},
   "outputs": [],
   "source": [
    "# Definir diretórios e locais de trabalho\n",
    "\n",
    "BASE_DIR = os.path.dirname(cwd) # base de trabalho\n",
    "DATA_DIR = os.path.join(BASE_DIR, \"data\") # dados gerais levantados durante projeto\n",
    "META_DIR = os.path.join(BASE_DIR, \"metadados\") #metadados levantados durante projeto\n",
    "CACHE_DIR = os.path.join(BASE_DIR, \"cache\") # material em processo - pode ser apagado ao final, caso julgue necessário\n",
    "SUB_DIR = os.path.join(CACHE_DIR, \"subs\") # local de trabalho para processamento de legenda\n",
    "VID_DIR = os.path.join(CACHE_DIR, \"vids\") # local de trabalho para processamento de legenda\n",
    "\n",
    "# Criar diretórios e locais de trabalho\n",
    "\n",
    "os.makedirs(DATA_DIR, exist_ok=True)\n",
    "os.makedirs(META_DIR, exist_ok=True)\n",
    "os.makedirs(CACHE_DIR, exist_ok=True)\n",
    "os.makedirs(SUB_DIR, exist_ok=True)\n",
    "os.makedirs(VID_DIR, exist_ok=True)"
   ]
  },
  {
   "cell_type": "code",
   "execution_count": 4,
   "metadata": {},
   "outputs": [],
   "source": [
    "# Verificar se os diretórios e locais de trabalho foram criados corretamente\n",
    "# os.listdir(BASE_DIR)"
   ]
  },
  {
   "cell_type": "code",
   "execution_count": 5,
   "metadata": {},
   "outputs": [],
   "source": [
    "#contexto\n",
    "\n",
    "now = datetime.datetime.now()\n",
    "year = datetime.datetime.now().year\n",
    "day = datetime.datetime.now().day\n",
    "month = datetime.datetime.now().month\n",
    "\n",
    "context = f\"_{month}-{day}-{year}\""
   ]
  },
  {
   "cell_type": "code",
   "execution_count": 6,
   "metadata": {},
   "outputs": [],
   "source": [
    "#print(context) \"\"\"retirar comentário para ver resultado\"\"\""
   ]
  },
  {
   "cell_type": "markdown",
   "metadata": {},
   "source": [
    "# Lives da semana\n",
    "\n",
    "- Abrir documento criando 1_Settings\n",
    "- Levantar corpus com Lives da Semana\n",
    "\n",
    "    Observa-se padrão em como as Lives são nomeadas no Canal. \n",
    "    Mesmo que os títulos das lives de Jair Bolsonaro tenham se alterado durante o tempo entre “Live de quinta-feira”, “Live da semana”, ou some “Live”, todos os vídeos recebem um título e, invariantemente, a palavra “Live” está presente. Usaremos esse padrão para pesquisar e levantar os vídeos de interesse geral à pesquisa."
   ]
  },
  {
   "cell_type": "markdown",
   "metadata": {},
   "source": [
    "### Abrir documento criando 1_Settings"
   ]
  },
  {
   "cell_type": "code",
   "execution_count": 7,
   "metadata": {},
   "outputs": [],
   "source": [
    "# Abrir documento JairChannel_corpus{context}.csv\n",
    "\n",
    "title = f\"JairChannel_corpus{context}.csv\"\n",
    "df = pd.read_csv(f\"{DATA_DIR}/{title}\")"
   ]
  },
  {
   "cell_type": "markdown",
   "metadata": {},
   "source": [
    "### Levantar corpus com Lives da Semana"
   ]
  },
  {
   "cell_type": "code",
   "execution_count": 8,
   "metadata": {},
   "outputs": [],
   "source": [
    "# Definir item de pesquisa (query)\n",
    "qItem = \"live\" # *+?{}"
   ]
  },
  {
   "cell_type": "code",
   "execution_count": 9,
   "metadata": {},
   "outputs": [],
   "source": [
    "LivesDaSemana = df[(df.Title.str.contains(f'{qItem}', case=False))]"
   ]
  },
  {
   "cell_type": "code",
   "execution_count": 52,
   "metadata": {},
   "outputs": [
    {
     "data": {
      "text/plain": [
       "'\"retirar comentário para ver resultado'"
      ]
     },
     "execution_count": 52,
     "metadata": {},
     "output_type": "execute_result"
    }
   ],
   "source": [
    "\"\"\"\"retirar comentário para ver resultado\"\"\"\n",
    "#len(LivesDaSemana)\n",
    "#LivesDaSemana.head(100)"
   ]
  },
  {
   "cell_type": "markdown",
   "metadata": {},
   "source": [
    "# Salvar os dados em novo corpus\n",
    "\n",
    "- Filtrar os dados para incluir somente vídeos criados durante mandado presidencial de Jair Bolsonaro: time > 2019\\\n",
    "- Salvar novo corpus  - Data Frame com Lives da semana JairChannel_corpusLives.csv"
   ]
  },
  {
   "cell_type": "code",
   "execution_count": 10,
   "metadata": {},
   "outputs": [],
   "source": [
    "# Nesse exemplo selecionamos as datas entre 01/01/2018 e 10/02/2019\n",
    "df = LivesDaSemana[(LivesDaSemana['PublishedAt']>= '2019')]"
   ]
  },
  {
   "cell_type": "code",
   "execution_count": 54,
   "metadata": {},
   "outputs": [
    {
     "data": {
      "text/plain": [
       "'retirar comentário para ver resultado'"
      ]
     },
     "execution_count": 54,
     "metadata": {},
     "output_type": "execute_result"
    }
   ],
   "source": [
    "\"\"\"retirar comentário para ver resultado\"\"\"\n",
    "#len(df)\n",
    "#df.head(10)\n",
    "#df.tail(10) "
   ]
  },
  {
   "cell_type": "code",
   "execution_count": 11,
   "metadata": {},
   "outputs": [],
   "source": [
    "# Salvar novo corpus - Data Frame com Lives da semana JairChannel_corpusLives.csv\n",
    "title = f\"{DATA_DIR}/JairChannel_corpusLives{context}.csv\"\n",
    "df.to_csv(f\"{title}\", index=False)"
   ]
  },
  {
   "cell_type": "markdown",
   "metadata": {},
   "source": [
    "### Verificar o corpus levantado - videos de um Canal do Youtube\n",
    "\n",
    "- Abrir documento\n",
    "- Explorar dados gerais\n",
    "\n",
    "    Para saber mais: https://paulovasconcellos.com.br/28-comandos-%C3%BAteis-de-pandas-que-talvez-voc%C3%AA-n%C3%A3o-conhe%C3%A7a-6ab64beefa93"
   ]
  },
  {
   "cell_type": "code",
   "execution_count": 12,
   "metadata": {},
   "outputs": [],
   "source": [
    "# Abrir documento - Pandas Data Frame (df)\n",
    "df = pd.read_csv(f\"{title}\")"
   ]
  },
  {
   "cell_type": "code",
   "execution_count": 13,
   "metadata": {},
   "outputs": [
    {
     "data": {
      "text/plain": [
       "97"
      ]
     },
     "execution_count": 13,
     "metadata": {},
     "output_type": "execute_result"
    }
   ],
   "source": [
    "# Qual o tamanho do documento - n. de itens?\n",
    "len(df)"
   ]
  },
  {
   "cell_type": "code",
   "execution_count": 14,
   "metadata": {},
   "outputs": [
    {
     "data": {
      "text/plain": [
       "(97, 6)"
      ]
     },
     "execution_count": 14,
     "metadata": {},
     "output_type": "execute_result"
    }
   ],
   "source": [
    "# Quantas linhas e colunas o DataFrame tem?\n",
    "df.shape"
   ]
  },
  {
   "cell_type": "code",
   "execution_count": 15,
   "metadata": {},
   "outputs": [
    {
     "data": {
      "text/plain": [
       "Index(['ChannelTitle', 'PublishedAt', 'Title', 'Description', 'Id', 'Link'], dtype='object')"
      ]
     },
     "execution_count": 15,
     "metadata": {},
     "output_type": "execute_result"
    }
   ],
   "source": [
    "# Quais são as categorias levantadas/obsevadas?\n",
    "df.columns"
   ]
  },
  {
   "cell_type": "code",
   "execution_count": 16,
   "metadata": {},
   "outputs": [
    {
     "data": {
      "text/plain": [
       "ChannelTitle    97\n",
       "PublishedAt     97\n",
       "Title           97\n",
       "Description     30\n",
       "Id              97\n",
       "Link            97\n",
       "dtype: int64"
      ]
     },
     "execution_count": 16,
     "metadata": {},
     "output_type": "execute_result"
    }
   ],
   "source": [
    "# Qual a quantidade de intens em cada uma das categorias obsevadas - colunas?\n",
    "df.count()"
   ]
  },
  {
   "cell_type": "code",
   "execution_count": 17,
   "metadata": {},
   "outputs": [
    {
     "data": {
      "text/html": [
       "<div>\n",
       "<style scoped>\n",
       "    .dataframe tbody tr th:only-of-type {\n",
       "        vertical-align: middle;\n",
       "    }\n",
       "\n",
       "    .dataframe tbody tr th {\n",
       "        vertical-align: top;\n",
       "    }\n",
       "\n",
       "    .dataframe thead th {\n",
       "        text-align: right;\n",
       "    }\n",
       "</style>\n",
       "<table border=\"1\" class=\"dataframe\">\n",
       "  <thead>\n",
       "    <tr style=\"text-align: right;\">\n",
       "      <th></th>\n",
       "      <th>ChannelTitle</th>\n",
       "      <th>PublishedAt</th>\n",
       "      <th>Title</th>\n",
       "      <th>Description</th>\n",
       "      <th>Id</th>\n",
       "      <th>Link</th>\n",
       "    </tr>\n",
       "  </thead>\n",
       "  <tbody>\n",
       "    <tr>\n",
       "      <th>0</th>\n",
       "      <td>Jair Bolsonaro</td>\n",
       "      <td>2021-02-25T23:22:36Z</td>\n",
       "      <td>Live de Quinta-feira - 25/02/2021. Temas na de...</td>\n",
       "      <td>- Auxílio emergencial;\\n- Mais ações da CAIXA ...</td>\n",
       "      <td>sA1AJ1NuDP4</td>\n",
       "      <td>https://www.youtube.com/watch?v=sA1AJ1NuDP4</td>\n",
       "    </tr>\n",
       "    <tr>\n",
       "      <th>1</th>\n",
       "      <td>Jair Bolsonaro</td>\n",
       "      <td>2021-02-18T21:46:42Z</td>\n",
       "      <td>Live da Semana - Presidente Jair Bolsonaro - 1...</td>\n",
       "      <td>Temas da live:\\n\\n. Combustíveis e ações no se...</td>\n",
       "      <td>8oPisf3kbGI</td>\n",
       "      <td>https://www.youtube.com/watch?v=8oPisf3kbGI</td>\n",
       "    </tr>\n",
       "    <tr>\n",
       "      <th>2</th>\n",
       "      <td>Jair Bolsonaro</td>\n",
       "      <td>2021-02-11T21:50:30Z</td>\n",
       "      <td>Live da Semana - PRESIDENTE JAIR BOLSONARO (11...</td>\n",
       "      <td>Snpagram: https://t.me/jairbolsonarobrasil</td>\n",
       "      <td>YCliiy_yl9Y</td>\n",
       "      <td>https://www.youtube.com/watch?v=YCliiy_yl9Y</td>\n",
       "    </tr>\n",
       "    <tr>\n",
       "      <th>3</th>\n",
       "      <td>Jair Bolsonaro</td>\n",
       "      <td>2021-02-11T21:30:28Z</td>\n",
       "      <td>-  Mais sobre nossa Viagem ao Maranhão.  - Log...</td>\n",
       "      <td>NaN</td>\n",
       "      <td>i7CJb5y4SWg</td>\n",
       "      <td>https://www.youtube.com/watch?v=i7CJb5y4SWg</td>\n",
       "    </tr>\n",
       "    <tr>\n",
       "      <th>4</th>\n",
       "      <td>Jair Bolsonaro</td>\n",
       "      <td>2021-02-04T22:56:31Z</td>\n",
       "      <td>Live da Semana - Presidente Jair Bolsonaro - 0...</td>\n",
       "      <td>TEMAS: \\n. Vacinas\\n. Preço do combustível (IC...</td>\n",
       "      <td>zW7ihlX7a24</td>\n",
       "      <td>https://www.youtube.com/watch?v=zW7ihlX7a24</td>\n",
       "    </tr>\n",
       "  </tbody>\n",
       "</table>\n",
       "</div>"
      ],
      "text/plain": [
       "     ChannelTitle           PublishedAt  \\\n",
       "0  Jair Bolsonaro  2021-02-25T23:22:36Z   \n",
       "1  Jair Bolsonaro  2021-02-18T21:46:42Z   \n",
       "2  Jair Bolsonaro  2021-02-11T21:50:30Z   \n",
       "3  Jair Bolsonaro  2021-02-11T21:30:28Z   \n",
       "4  Jair Bolsonaro  2021-02-04T22:56:31Z   \n",
       "\n",
       "                                               Title  \\\n",
       "0  Live de Quinta-feira - 25/02/2021. Temas na de...   \n",
       "1  Live da Semana - Presidente Jair Bolsonaro - 1...   \n",
       "2  Live da Semana - PRESIDENTE JAIR BOLSONARO (11...   \n",
       "3  -  Mais sobre nossa Viagem ao Maranhão.  - Log...   \n",
       "4  Live da Semana - Presidente Jair Bolsonaro - 0...   \n",
       "\n",
       "                                         Description           Id  \\\n",
       "0  - Auxílio emergencial;\\n- Mais ações da CAIXA ...  sA1AJ1NuDP4   \n",
       "1  Temas da live:\\n\\n. Combustíveis e ações no se...  8oPisf3kbGI   \n",
       "2         Snpagram: https://t.me/jairbolsonarobrasil  YCliiy_yl9Y   \n",
       "3                                                NaN  i7CJb5y4SWg   \n",
       "4  TEMAS: \\n. Vacinas\\n. Preço do combustível (IC...  zW7ihlX7a24   \n",
       "\n",
       "                                          Link  \n",
       "0  https://www.youtube.com/watch?v=sA1AJ1NuDP4  \n",
       "1  https://www.youtube.com/watch?v=8oPisf3kbGI  \n",
       "2  https://www.youtube.com/watch?v=YCliiy_yl9Y  \n",
       "3  https://www.youtube.com/watch?v=i7CJb5y4SWg  \n",
       "4  https://www.youtube.com/watch?v=zW7ihlX7a24  "
      ]
     },
     "execution_count": 17,
     "metadata": {},
     "output_type": "execute_result"
    }
   ],
   "source": [
    "# Quais são os 5 'primeiros' itens do documento - Os vídeos publicados recentemente?\n",
    "df.head(5)"
   ]
  },
  {
   "cell_type": "code",
   "execution_count": 18,
   "metadata": {},
   "outputs": [
    {
     "data": {
      "text/html": [
       "<div>\n",
       "<style scoped>\n",
       "    .dataframe tbody tr th:only-of-type {\n",
       "        vertical-align: middle;\n",
       "    }\n",
       "\n",
       "    .dataframe tbody tr th {\n",
       "        vertical-align: top;\n",
       "    }\n",
       "\n",
       "    .dataframe thead th {\n",
       "        text-align: right;\n",
       "    }\n",
       "</style>\n",
       "<table border=\"1\" class=\"dataframe\">\n",
       "  <thead>\n",
       "    <tr style=\"text-align: right;\">\n",
       "      <th></th>\n",
       "      <th>ChannelTitle</th>\n",
       "      <th>PublishedAt</th>\n",
       "      <th>Title</th>\n",
       "      <th>Description</th>\n",
       "      <th>Id</th>\n",
       "      <th>Link</th>\n",
       "    </tr>\n",
       "  </thead>\n",
       "  <tbody>\n",
       "    <tr>\n",
       "      <th>92</th>\n",
       "      <td>Jair Bolsonaro</td>\n",
       "      <td>2019-03-28T22:33:15Z</td>\n",
       "      <td>28/03/2019: Live da semana com o Presidente Ja...</td>\n",
       "      <td>NaN</td>\n",
       "      <td>QOI-6oHhH84</td>\n",
       "      <td>https://www.youtube.com/watch?v=QOI-6oHhH84</td>\n",
       "    </tr>\n",
       "    <tr>\n",
       "      <th>93</th>\n",
       "      <td>Jair Bolsonaro</td>\n",
       "      <td>2019-03-21T22:48:36Z</td>\n",
       "      <td>LIVE DA SEMANA PRESIDENTE BOLSONARO: Brasil, E...</td>\n",
       "      <td>NaN</td>\n",
       "      <td>PL4v3EJYPl0</td>\n",
       "      <td>https://www.youtube.com/watch?v=PL4v3EJYPl0</td>\n",
       "    </tr>\n",
       "    <tr>\n",
       "      <th>94</th>\n",
       "      <td>Jair Bolsonaro</td>\n",
       "      <td>2019-03-19T08:27:31Z</td>\n",
       "      <td>Jair e Eduardo Bolsonaro fazem live direto dos...</td>\n",
       "      <td>NaN</td>\n",
       "      <td>soqllowxCag</td>\n",
       "      <td>https://www.youtube.com/watch?v=soqllowxCag</td>\n",
       "    </tr>\n",
       "    <tr>\n",
       "      <th>95</th>\n",
       "      <td>Jair Bolsonaro</td>\n",
       "      <td>2019-03-14T21:57:57Z</td>\n",
       "      <td>Live semanal com o Presidente: viagem aos EUA,...</td>\n",
       "      <td>NaN</td>\n",
       "      <td>-Nm2w9M5X84</td>\n",
       "      <td>https://www.youtube.com/watch?v=-Nm2w9M5X84</td>\n",
       "    </tr>\n",
       "    <tr>\n",
       "      <th>96</th>\n",
       "      <td>Jair Bolsonaro</td>\n",
       "      <td>2019-03-07T22:02:33Z</td>\n",
       "      <td>Presidente Bolsonaro volta a fazer lives e pro...</td>\n",
       "      <td>NaN</td>\n",
       "      <td>cOWlW_3zcw4</td>\n",
       "      <td>https://www.youtube.com/watch?v=cOWlW_3zcw4</td>\n",
       "    </tr>\n",
       "  </tbody>\n",
       "</table>\n",
       "</div>"
      ],
      "text/plain": [
       "      ChannelTitle           PublishedAt  \\\n",
       "92  Jair Bolsonaro  2019-03-28T22:33:15Z   \n",
       "93  Jair Bolsonaro  2019-03-21T22:48:36Z   \n",
       "94  Jair Bolsonaro  2019-03-19T08:27:31Z   \n",
       "95  Jair Bolsonaro  2019-03-14T21:57:57Z   \n",
       "96  Jair Bolsonaro  2019-03-07T22:02:33Z   \n",
       "\n",
       "                                                Title Description  \\\n",
       "92  28/03/2019: Live da semana com o Presidente Ja...         NaN   \n",
       "93  LIVE DA SEMANA PRESIDENTE BOLSONARO: Brasil, E...         NaN   \n",
       "94  Jair e Eduardo Bolsonaro fazem live direto dos...         NaN   \n",
       "95  Live semanal com o Presidente: viagem aos EUA,...         NaN   \n",
       "96  Presidente Bolsonaro volta a fazer lives e pro...         NaN   \n",
       "\n",
       "             Id                                         Link  \n",
       "92  QOI-6oHhH84  https://www.youtube.com/watch?v=QOI-6oHhH84  \n",
       "93  PL4v3EJYPl0  https://www.youtube.com/watch?v=PL4v3EJYPl0  \n",
       "94  soqllowxCag  https://www.youtube.com/watch?v=soqllowxCag  \n",
       "95  -Nm2w9M5X84  https://www.youtube.com/watch?v=-Nm2w9M5X84  \n",
       "96  cOWlW_3zcw4  https://www.youtube.com/watch?v=cOWlW_3zcw4  "
      ]
     },
     "execution_count": 18,
     "metadata": {},
     "output_type": "execute_result"
    }
   ],
   "source": [
    "# Quais são os 5 'últimos itens' do documento - Os primeiros vídeos publicados no canal?\n",
    "df.tail(5)"
   ]
  },
  {
   "cell_type": "markdown",
   "metadata": {},
   "source": [
    "### Observação\n",
    "\n",
    "Há somente 29 vídeos com descrição de conteúdo.\n",
    "\n",
    "- Que itens fazem parte desses conteúdos?\n",
    "\n",
    "- Qual a ocorrência dos temas ligados à pandemia e saúde pública: *Saúde, Pandemia, Convid-19, Corona vírus, Coronavirus, Auxílio emergencial, Tratamento precoce, Restrições, Uso de mascara, Vacina, Hidroxicloroquina etc*."
   ]
  },
  {
   "cell_type": "code",
   "execution_count": 19,
   "metadata": {},
   "outputs": [],
   "source": [
    "dsc = df.dropna(subset=['Description'])"
   ]
  },
  {
   "cell_type": "code",
   "execution_count": 20,
   "metadata": {},
   "outputs": [
    {
     "name": "stdout",
     "output_type": "stream",
     "text": [
      "- Auxílio emergencial;\n",
      "- Mais ações da CAIXA para auxílio à população;\n",
      "- MEI - Microempreendedor Caminhoneiro.\n",
      "- Autonomia do Banco Central;\n",
      "- Projeto de Lei que acaba com o monopólio dos Correios nos serviços postais do país e viabiliza a sua privatização.\n",
      "- MP da da Eletrobrás: Enxugando gastos e menos Estado.\n",
      "- E mais:\n",
      "Temas da live:\n",
      "\n",
      ". Combustíveis e ações no sentido, como mostradas constantemente em postagens anteriores e atualizações;\n",
      "\n",
      ". Vacinas;\n",
      "\n",
      ". Nova determinação: Tributação federal zero no gás de cozinha;\n",
      ". Por 2 meses não haverá qualquer imposto federal no diesel, razões e derivações;\n",
      "\n",
      ". Pronampe caminhoneiro ( diminuição de custos ao caminhoneiro);\n",
      ". Redução constante e carga tributária zerada (mais de 500 itens alcançados);\n",
      "\n",
      ". Fique em casa indiscriminado, a economia a gente vê depois e os resultados no bolso do brasileiro;\n",
      "\n",
      ". A verdade sobre armas de fogo;\n",
      "\n",
      ". Atualização de ações do Ministério da Infraestrutura (Ministro Capitão Tarcísio);\n",
      "\n",
      ". Atitudes do INMETRO (certificação digital das bombas de combustível pra evitar fraudes e fiscalização dos consumidores);\n",
      "\n",
      ". Presidência 2022;\n",
      "\n",
      ". Transporte ferroviário;\n",
      "\n",
      " .Pavimentações de rodovias diminuem o valor do frete (mais explanações sobre:);\n",
      "\n",
      ". greenpeace é contra a redução de impostos de combustível fóssil;\n",
      ". Roubos na Petrobras geraram reflexos e ações do Governo do Brasil sobre o assunto;\n",
      "\n",
      ". Leilões de portos e aeroportos;\n",
      "\n",
      ". Importância de reformas e medidas estruturantes;\n",
      "\n",
      ". E mais assuntos.\n",
      "Snpagram: https://t.me/jairbolsonarobrasil\n",
      "TEMAS: \n",
      ". Vacinas\n",
      ". Preço do combustível (ICMS, propostas e outros)\n",
      ". Radares nas estradas\n",
      ". Observação tratamento off label\n",
      ". Relações internacionais (Uruguai, Paraguai e Brasil)\n",
      ". “Fique em casa, a economia a gente vê depois”\n",
      ". Entre outros\n",
      "- Temas da semana:\n",
      "\n",
      ". Zerados impostos no combate ao covid e outros; Ministério da Economia\n",
      "\n",
      ". Brasileiro preso na Rússia;\n",
      ". Vacina; Ministério das Relações Exteriores\n",
      "\n",
      ". Economia com reflexos positivos e derivações  na pandemia;\n",
      "\n",
      ". Ministério do Turismo e as mentiras de muitos da imprensa;\n",
      "\n",
      ". Apelo aos governadores;\n",
      "\n",
      ". Brasil é destaque internacional no combate ao covid;\n",
      "\n",
      ". Regularizações fundiárias em pleno vapor e inserção do pequeno produtor na economia; Ministério da Agricultura, Pecuária e Abastecimento\n",
      "\n",
      ". 67 milhões recebem o auxílio emergencial; Ministério da Cidadania\n",
      "\n",
      ". Tratamento precoce do corona vírus; Ministério da Saúde\n",
      "\n",
      ". Crédito para manutenção da Economia;\n",
      "\n",
      ". Auxílio a todos os estados independente de sua ideologia pensando em todos os brasileiros;\n",
      ". Temas:\n",
      "\n",
      "- títulos de terras há 20 anos esperados;\n",
      "- Extração de madeira;\n",
      "- Registros do enfrentamento ao desmatamento com o Ministro da Justiça;\n",
      "- Recursos de leilões de bens do tráfico revertidos para equipamento das Forças de Segurança;\n",
      "- Projetos Aplicados no combate à extração de madeira ilegal ( Ministério da Justiça e Segurança Pública / Polícia Federal - PF);\n",
      "Agenda e temas: \n",
      "\n",
      ". Programa Mais Luz para a Amazônia;\n",
      "\n",
      ". Inauguração do Programa wi-fi na Praça, desta vez, em cidades do Pará (escolas e outras localidades públicas).\n",
      "\n",
      ". Programa Caixa Refloresta: árvores para os 5 biomas do Brasil;\n",
      "\n",
      ".  Programa Voo Simples: simplificações que revolucionam a aviação;\n",
      "\n",
      ". FakeNews, Privatizações e Turismo;\n",
      "\n",
      ". Redução de impostos para jogos eletrônicos;\n",
      "\n",
      ". Ampliação de financiamento a juros baixos para micro e pequenos empresários;\n",
      "\n",
      ". Nova Agência Barco da Caixa chegando em localidades por rios.\n",
      "\n",
      ". Auxílio Emergencial, FGTS e BEm;\n",
      "\n",
      ". Novo Programa de Mineração e Desenvolvimento com preservação ao meio ambiente;\n",
      "\n",
      ". Respeito ao limite do teto de gastos;\n",
      "\n",
      ". A verdade sobre a lava-lato, que continua, “covidão”, operações sobre irregularidades na Petrobras e outros;\n",
      "\n",
      ". Caso Robson na Rússia;\n",
      "\n",
      ". Candidatos pelo Brasil;\n",
      "\n",
      ".  Indicações constitucionais;\n",
      "\n",
      ". Foro de SP;\n",
      "\n",
      ". Perguntas dos jornalistas dos Pingos nos Is:\n",
      "Live de toda quinta feira com assuntos da semana.\n",
      "- Live de toda quinta-feira (23/07/2020)\n",
      "\n",
      "Temas:\n",
      "\n",
      "- vidas, R$600, desemprego, COVID, Reforma Tributária, fundeb, escolas militares, escolas militarizadas, derivações da MP do futebol (liberdade dos clubes), MP 910 / regularização fundiária, Amazônia, novas obras, Agronegócio;\n",
      "\n",
      "- Dia do Policial Rodoviário Federal: cerca de R$110 milhões de apreensão de cocaína em um dia, operações antidrogas resultam cerca de 3x mais efetividade que em 2019 e concurso para Agentes de Segurança Pública Federal.\n",
      "- Ajuda a Santa Catarina devido a ciclone;\n",
      "- auxílio à pequenas empresas;\n",
      "- Mais detalhes sobre o auxílio-emergencial;\n",
      "- Mais de 20.000 obras pelo Brasil desde 2019 (Ministério do Desenvolvimento Reginional);\n",
      "- 500.000 unidades habitacionais entregues e mais 50.000 até o final do ano;\n",
      "- PL das fakenews;\n",
      "- MP do Futebol\n",
      "- Recursos da União enviados a estados e municípios;\n",
      "- ferrovias e muito mais detalhes.\n",
      ". Temas: \n",
      "- ações do governo diante do covid-19;\n",
      "- Ajuda direta aos Brasileiros, estados e municípios; \n",
      "- Extensão do auxílio emergencial do Governo Bolsonaro;\n",
      "- Ações atualizadas da pasta;\n",
      "- FGTS...\n",
      "- Acompanhe e saiba de mais detalhes!\n",
      ". Temas:\n",
      "- Auxílio emergencial alcançando mais de 63 milhões de brasileiros. O BRASIL NÃO PODE PARAR!\n",
      "\n",
      "- MP DO FUTEBOL: cria a independência dos clubes diante de grandes emissoras de TV. E outros;\n",
      "\n",
      "- Plano Safra (agricultura familiar);\n",
      "\n",
      "- Assinado Parecer Vinculante que criou a paridade e integralidade das Forças de Segurança Pública, assim como outras categorias;\n",
      "\n",
      "- Mais detalhes sobre as ações do Governo do Brasil em nossas redes sociais.\n",
      "1- trabalho conjunto do Governo Federal para socorro emergencial de R$600, por 3 meses.\n",
      "1.1- 111 milhões de acessos ao site da Caixa no 1° dia;\n",
      "1.2- 30 milhões de cadastrados hoje;\n",
      "1.3- 2,6 milhões de benefícios pagos;\n",
      "1.4- Maior programa de inserção de pessoas gratuitamente. Mais detalhes, na Caixa Econômica Federal;\n",
      "\n",
      "2- Ministro do STF determina que ações de restrições são de competência de governadores e prefeitos.\n",
      "\n",
      "3- Assinada MP que isenta 9 milhões de famílias do pagamento de cerca de R$150, por 3 meses.\n",
      "\n",
      "4- Com muito sacrifício, o Governo Federal já utilizou mais de R$600 bilhões na luta contra o covid-19 e manutenção de empregos. Em breve não haverá mais recursos para durar por muito tempo.\n",
      "\n",
      "5- Onze mil brasileiros repatriados, com devido acompanhamento médico e mais a caminho.\n",
      "\n",
      "6- A CEF anuncia nova linha de crédito de R$ 40 bilhões para linha de moradias. 1,2 milhão de trabalhadores com emprego garantido e seis meses de carência para o comprador começar a pagar.\n",
      "\n",
      "7- As três etapas de pagamento de R$600/mês serão efetivadas até o final de maio.\n",
      "7.1- coronavoucher: R$ 98 bilhões para 54 milhões de brasileiros.\n",
      "\n",
      "8- Ajuda financeira à prefeituras:  R$ 3 bilhões já usados e serão mais R$5 bilhões para mais de 300 municípios.\n",
      "\n",
      "9- Saque de até R$1.045,00 do FGTS a partir de junho. 60 milhões de brasileiros e R$37 bilhões.\n",
      "\n",
      "10.1- Hidroxicloroquina sendo usada no mundo todo e avanços acontecem.\n",
      "10.2- Até sábado, centenas de quilos de insumos farmacêuticos para produção do medicamento, enviados pela Índia chegarão ao Brasil\n",
      "Temas:\n",
      "1- Reunião com países do G20 animou as nações diante dos resultados positivos brasileiros iniciais na eficácia dos medicamentos Reuquinol e Hidroxicloroquina contra o covid-19.\n",
      "\n",
      "2- Reunião G20: precauções com idosos e grupos de risco, juntamente com a preocupação da empregabilidade para manutenção do bem estar de todos.\n",
      "\n",
      "3- Ampliação do bolsa-família.\n",
      "\n",
      "4- Com a MP do 13o expirada por falta de votação, o Executivo estuda maneiras para volta deste recurso.\n",
      "\n",
      "5- Por determinação do Presidente, os laboratórios do Exército aumentam sua produção dos medicamentos promissores ao enfrentamento do coronavirus.\n",
      "\n",
      "6- O Ministério da Economia anuncia por 3 meses o valor de R$600 do pagamento de auxílio a trabalhadores informais no Brasil.\n",
      "\n",
      "7- O Governo Federal aciona a justiça para ampliar serviços essenciais para a população, hoje impedidos por alguns governadores e prefeitos.\n",
      "\n",
      "8- Com mais uma baixa do preço do petróleo no mundo, o Brasil este ano, baixou cerca de 40% o valor do diesel e gasolina nas refinarias.\n",
      "\n",
      "9- O Ministério da Defesa e a Caixa Econômica colocam seus navios hospitais e barcos agência a disposição em locais remotos e outras regiões no enfrentamento ao covid-19.\n",
      "\n",
      "10- A Apsen Farmacêutica anuncia a produção gratúita de milhões de unidades dos medicamentos no combate ao coronavirus.\n",
      "\n",
      "11- o Governo assina decreto de funcionamento das 12.956 Caixas Lotéricas (serviços essenciais) devido a determinação do fechamento de 2.463 unidades por alguns governadores e prefeitos.\n",
      "\n",
      "12- A Caixa Econômica anuncia R$ 5 bilhões de financiamento com redução de juros/mês para 0,8% às Santa Casas.\n",
      "\n",
      "13- CASA PRÓPRIA: governo amplia de 60 para 90 dias o não pagamento aos compradores, devido à crise. Avaliando tempo ainda maior de postergação.\n",
      "\n",
      "14- A Caixa Econômica anuncia redução de juros. Em 2018 era de 14% ao mês, hoje passando para 2,9% ao mês. Ainda análise de maior redução.\n",
      "- Redução do preço do gás e combustíveis nas refinarias;\n",
      "- Atualização sobre o coronavirus;\n",
      "- Diminuição da taxa de juros para aposentados;\n",
      "- Voucher para trabalhador informal;\n",
      "- fronteiras.\n",
      ". Temas: \n",
      "- Coronavirus com o Ministro da Saúde; \n",
      "- Acordo militar com os EUA; \n",
      "- Quando solicitada, seguindo a lei, cidades estão tendo ajudas do Governo Federal em caso de calamidades com chuvas: cidades de SP, MG, ES e outras;\n",
      "- Sexta queda consecutiva dos preços do petróleo, sendo mais de 20% baixados nas refinarias;\n",
      "- Liberdade de pensamentos e manifestações; \n",
      "- Orçamento engessado, contudo vamos cuidando do Brasil;\n",
      "- Trabalho constante dos Ministérios;\n",
      "-  Indicação de Ministro do STF e a confiança no Presidente.\n",
      "Temas: politicamente correto, viagem aos EUA, investidores nacionais e internacionais da tilápia e tambaqui brasileiros, conversa com empresários na FIESP, turismo náutico e possibilidades para expansão de empregos, serviços e infraestrutura, alguns deputados insistem em revogação de decretos que favorecem a população, passagem pelo Rio Grande do Norte para entregas e anúncios do Governo Federal, ida à Boa Vista (RR): Operação Acolhida e projetos de infraestrutura, além de necessidade de aprovação do Congresso para retaguarda jurídica às Forças Armadas em caso de GLO.\n",
      ". Live de quinta-feira com o Presidente:\n",
      "\n",
      "- liberdade dos meios de comunicação, Inmetro, tacógrafos, táxis, a verdade sobre as manifestações de 15 de março, bilhões gastos no passado com a imprensa, Medidas Provisórias perdem validade, projetos em prol do Brasil ficam em segundo plano, índios, carteira de motorista, radares, ministros técnicos, dólar, corona vírus e suas derivações econômicas mundiais, visita aos EUA e a importância da afinação entre os poderes.\n",
      ". Assuntos: Desburocratizações, redução de impostos, desenvolvimento do turismo e pesca, bolsa-família, criação inédita do crédito fixo imobiliário (Caixa), combustíveis, MPs da carteirinha e dos balancetes exiradasve novas ações para o futuro dos temas e  excludente de ilicitude em caso de GLO\n",
      "Placas Mercosul, pedágios, Conselho da Amazônia e Aliança pelo Brasil foram alguns dos principais assuntos da transmissão.\n",
      "A primeira live do ano de 2020.\n",
      "Assista à íntegra da Live da semana realizada na última quinta, 28, com a presença do Presidente da Embratur, Gilson Machado.\n",
      "Primeira live de quinta-feira em Brasília, após mais uma cirurgia em decorrência da facada cometida por um ativista de esquerda, que quase nos matou em 6 de setembro de 2018. (Mais fatos da semana):\n",
      "Presidente Jair Bolsonaro faz levantamento sobre assuntos relevantes da semana:\n",
      "\n",
      "Colheita recorde de grãos na safra 2018/2019\n",
      "\n",
      "Redução de impostos para jogos eletrônicos\n",
      "\n",
      "MP 892: fim dos balancetes nos jornais impressos\n",
      "\n",
      "Antecipação do 13o dos aposentados e pensionistas do INSS\n",
      "\n",
      "Entre outros...\n",
      "Íntegra da live no Facebook exibida na última quinta-feira, 25, com participação do Ministro da Secretaria Geral da Presidência, Jorge Oliveira.\n",
      "Assista na íntegra a Live do Presidente Jair Bolsonaro com os assuntos da semana, exibida na última quinta-feira, 04/07/2019.\n",
      "Presidente Jair Bolsonaro realiza transmissão ao vivo pelo Facebook diretamente do Japão, onde participa da reunião do G20.\n",
      "Confira a íntegra da live de 30/Maio - Principais temas abordados: Investimentos no Brasil, Nova Previdência, Saúde, gratuidade de bagagens, MP da Reforma Administrativa, entre outros assuntos.\n",
      "Dentre muitos assuntos discutidos, destacam-se o apoio oficial reafirmado pelos Estados Unidos ao ingresso do Brasil na OCDE, abertura do mercado das companhias aéreas, turismo, edição do decreto sobre armas de fogo e outros.\n",
      "- Live da semana com o Presidente Bolsonaro, o Ministro da Justiça e Segurança Pública, Sérgio Moro, e o Ministro-chefe do Gabinete de Segurança Institucional, onde falamos sobre alguns assuntos da semana.\n"
     ]
    }
   ],
   "source": [
    "for text in dsc.Description:\n",
    "    print(text)"
   ]
  },
  {
   "cell_type": "code",
   "execution_count": null,
   "metadata": {},
   "outputs": [],
   "source": [
    "# Definir item de pesquisa (query)\n",
    "# Saúde, Pandemia, Convid-19, Corona vírus, Coronavirus, Auxílio emergencial, Tratamento precoce, Restrições, Uso de mascara, Vacina, Hidroxicloroquina"
   ]
  }
 ],
 "metadata": {
  "kernelspec": {
   "display_name": "Python 3",
   "language": "python",
   "name": "python3"
  },
  "language_info": {
   "codemirror_mode": {
    "name": "ipython",
    "version": 3
   },
   "file_extension": ".py",
   "mimetype": "text/x-python",
   "name": "python",
   "nbconvert_exporter": "python",
   "pygments_lexer": "ipython3",
   "version": "3.8.5"
  }
 },
 "nbformat": 4,
 "nbformat_minor": 4
}
