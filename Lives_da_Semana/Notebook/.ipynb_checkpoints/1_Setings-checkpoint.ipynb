{
 "cells": [
  {
   "cell_type": "markdown",
   "metadata": {},
   "source": [
    "# Setings\n",
    "\n",
    "Bibliotecas usadas:\n",
    "\n",
    "- datetime\n",
    "- pandas\n",
    "- matplotlib\n",
    "\n",
    "- sys\n",
    "- json\n",
    "- glob\n",
    "\n",
    "- webvtt\n",
    "\n",
    "Outros:\n",
    "\n",
    "- Youtube API (https://developers.google.com/youtube/v3)\n",
    "- Youtube-dl (https://youtube-dl.org/)"
   ]
  },
  {
   "cell_type": "markdown",
   "metadata": {},
   "source": [
    "## Configurações básicas \n",
    "\n",
    "- Bibliotecas usadas\n",
    "- Diretórios e locais de trabalho\n"
   ]
  },
  {
   "cell_type": "code",
   "execution_count": 4,
   "metadata": {},
   "outputs": [],
   "source": [
    "# Bibliotecas usadas\n",
    "\n",
    "\"\"\"\n",
    "Caso não tenha algumas das bibliotecas instaladas digitar \"!pip install\". Exemplo: !pip install os. \n",
    "Exceção para os casos YoutubeAPI e Youtube-dl. Nesses casos, acessar os links indicados e verificar os documentos disponíveis. \n",
    "\"\"\"\n",
    "\n",
    "import os\n",
    "import pandas as pd\n",
    "from matplotlib import pyplot as plt\n",
    "\n",
    "import sys\n",
    "import datetime\n",
    "import json\n",
    "import glob\n",
    "\n",
    "import webvtt"
   ]
  },
  {
   "cell_type": "code",
   "execution_count": 5,
   "metadata": {},
   "outputs": [
    {
     "name": "stdout",
     "output_type": "stream",
     "text": [
      "/Users/dumoura/Dev/PDev/PoliticalRemix/Lives_da_Semana/Notebook_IngDef/Bolsonorao_Channel_Parsing\n"
     ]
    }
   ],
   "source": [
    "# Diretórios e locais de trabalho\n",
    "## dirbase = os.chdir(\"\") incluir sua base de trabalho\n",
    "\n",
    "cwd = os.getcwd()\n",
    "print(cwd)"
   ]
  },
  {
   "cell_type": "code",
   "execution_count": 6,
   "metadata": {},
   "outputs": [],
   "source": [
    "# Definir diretórios e locais de trabalho\n",
    "\n",
    "BASE_DIR = os.path.dirname(cwd) # base de trabalho\n",
    "DATA_DIR = os.path.join(BASE_DIR, \"data\") # dados gerais levantados durante projeto\n",
    "META_DIR = os.path.join(BASE_DIR, \"metadados\") #metadados levantados durante projeto\n",
    "CACHE_DIR = os.path.join(BASE_DIR, \"cache\") # material em processo - pode ser apagado ao final, caso julgue necessário\n",
    "SUB_DIR = os.path.join(CACHE_DIR, \"subs\") # local de trabalho para processamento de legenda\n",
    "VID_DIR = os.path.join(CACHE_DIR, \"vids\") # local de trabalho para processamento de legenda\n",
    "\n",
    "# Criar diretórios e locais de trabalho\n",
    "\n",
    "os.makedirs(DATA_DIR, exist_ok=True)\n",
    "os.makedirs(META_DIR, exist_ok=True)\n",
    "os.makedirs(CACHE_DIR, exist_ok=True)\n",
    "os.makedirs(SUB_DIR, exist_ok=True)\n",
    "os.makedirs(VID_DIR, exist_ok=True)"
   ]
  },
  {
   "cell_type": "code",
   "execution_count": 36,
   "metadata": {},
   "outputs": [],
   "source": [
    "# Verificar se os diretórios e locais de trabalho foram criados corretamente\n",
    "# os.listdir(BASE_DIR)"
   ]
  },
  {
   "cell_type": "code",
   "execution_count": 7,
   "metadata": {},
   "outputs": [],
   "source": [
    "# Definir contexto -período- de trabalho \n",
    "\n",
    "now = datetime.datetime.now()\n",
    "year = datetime.datetime.now().year\n",
    "day = datetime.datetime.now().day\n",
    "month = datetime.datetime.now().month\n",
    "\n",
    "# Usar contexto para nomear documentos\n",
    "\n",
    "context = f\"_{month}-{day}-{year}\""
   ]
  },
  {
   "cell_type": "code",
   "execution_count": 38,
   "metadata": {},
   "outputs": [],
   "source": [
    "#print(context) \"\"\"retirar comentário para ver resultado\"\"\""
   ]
  },
  {
   "cell_type": "markdown",
   "metadata": {},
   "source": [
    "## Configurar Youtube API"
   ]
  },
  {
   "cell_type": "code",
   "execution_count": 8,
   "metadata": {},
   "outputs": [],
   "source": [
    "# Configurar YouTube API\n",
    "\n",
    "api_key = \"\" # inserir aqui a sua chave - \"api key\"\n",
    "\n",
    "# Biblioteca \n",
    "from googleapiclient.discovery import build\n",
    "\n",
    "# Conf. básica\n",
    "youtube = build(\"youtube\", \"v3\", developerKey=api_key)"
   ]
  },
  {
   "cell_type": "markdown",
   "metadata": {},
   "source": [
    "### Pegar os dados básicos de Canal de YouTube\n",
    "\n",
    "- levantar links de todos os vídeos do canal\n",
    "- levantar dados e metadados de todos os vídeos do canal "
   ]
  },
  {
   "cell_type": "code",
   "execution_count": 9,
   "metadata": {},
   "outputs": [],
   "source": [
    "# Função selecionar - com base em id - todos os videos de um Canal do Youtube\n",
    "\n",
    "def get_channel_videos(channel_id):\n",
    "    \n",
    "    # get Uploads playlist id\n",
    "    \n",
    "    res = youtube.channels().list(id=channel_id, \n",
    "                                  part='contentDetails').execute()\n",
    "    playlist_id = res['items'][0]['contentDetails']['relatedPlaylists']['uploads']\n",
    "    \n",
    "    videos = []\n",
    "    next_page_token = None\n",
    "    \n",
    "    while 1:\n",
    "        res = youtube.playlistItems().list(playlistId=playlist_id, \n",
    "                                           part='snippet', \n",
    "                                           maxResults=50,\n",
    "                                           pageToken=next_page_token).execute()\n",
    "       \n",
    "        videos += res['items']\n",
    "        next_page_token = res.get('nextPageToken')\n",
    "        \n",
    "        if next_page_token is None:\n",
    "            break\n",
    "    \n",
    "    return videos"
   ]
  },
  {
   "cell_type": "code",
   "execution_count": 10,
   "metadata": {},
   "outputs": [],
   "source": [
    "# Informações do Canal de Jair Bolsonaro - id do Canal \n",
    "\n",
    "id_jair = \"UC8hGUtfEgvvnp6IaHSAg1OQ\" # Como encontrar id do canal? A forma mais fácil: 1. Selecionar qualquer vídeo do canal desejado.2.Clicar no logo/nome do canal abaixo do vídeo. 3. Selecionar a última parte do link do seu navegador. Exemplo: youtube.com/channel/UC8hGUtfEgvvnp6IaHSAg1OQ)\n",
    "ContentDetails = youtube.channels().list(id = id_jair, part = \"contentDetails\").execute() # Para saber mais: https://developers.google.com/youtube/v3/docs/search/list \n"
   ]
  },
  {
   "cell_type": "code",
   "execution_count": 11,
   "metadata": {},
   "outputs": [],
   "source": [
    "# \"Pegar\" informações básicas de todos os vídeos de um Canal do Youtube. No caso, de Jair Bolsonaro\n",
    "vids = get_channel_videos(id_jair)"
   ]
  },
  {
   "cell_type": "code",
   "execution_count": 43,
   "metadata": {},
   "outputs": [],
   "source": [
    "# Verificar no primeiro ítem[0] quais são os dados levantados\n",
    "\n",
    "#vids[0] \"\"\"retirar comentário para ver resultado\"\"\""
   ]
  },
  {
   "cell_type": "code",
   "execution_count": 12,
   "metadata": {},
   "outputs": [],
   "source": [
    "# Levantar dados e metadados de todos os vídeos do canal\n",
    "\n",
    "\n",
    "dados = []\n",
    "\n",
    "for i in vids:\n",
    "    ChannelTitle = i[\"snippet\"]['channelTitle']\n",
    "    PublishedAt = i[\"snippet\"]['publishedAt']\n",
    "    Title = i[\"snippet\"]['title']\n",
    "    Description = i[\"snippet\"]['description'] \n",
    "    Id = i['snippet']['resourceId']['videoId']\n",
    "    Link = \"https://www.youtube.com/watch?v=\" +i['snippet']['resourceId']['videoId']\n",
    "    dados.append((ChannelTitle, PublishedAt, Title, Description, Id, Link))\n",
    "\n",
    "dados = pd.DataFrame(dados, columns = ['ChannelTitle', 'PublishedAt','Title', 'Description', 'Id', 'Link'])"
   ]
  },
  {
   "cell_type": "code",
   "execution_count": 13,
   "metadata": {},
   "outputs": [],
   "source": [
    "# Salvar em um documento CSV - JairChannel_corpus\n",
    "\n",
    "title = f\"{DATA_DIR}/JairChannel_corpus{context}.csv\"\n",
    "dados.to_csv(f\"{title}\", index=False) #dados.to_csv(f\"{DATA_DIR}/JairChannel_vids_generaldata_{context}.csv\", index=False)"
   ]
  },
  {
   "cell_type": "markdown",
   "metadata": {},
   "source": [
    "### Verificar o corpus levantado - videos de um Canal do Youtube\n",
    "\n",
    "- Abrir documento JairChannel_corpus\n",
    "- Explorar dados gerais\n",
    "\n",
    "    Para saber mais: https://paulovasconcellos.com.br/28-comandos-%C3%BAteis-de-pandas-que-talvez-voc%C3%AA-n%C3%A3o-conhe%C3%A7a-6ab64beefa93"
   ]
  },
  {
   "cell_type": "code",
   "execution_count": 14,
   "metadata": {},
   "outputs": [],
   "source": [
    "# Abrir documento - Pandas Data Frame (df)\n",
    "df = pd.read_csv(f\"{title}\")"
   ]
  },
  {
   "cell_type": "code",
   "execution_count": 15,
   "metadata": {},
   "outputs": [
    {
     "data": {
      "text/plain": [
       "2639"
      ]
     },
     "execution_count": 15,
     "metadata": {},
     "output_type": "execute_result"
    }
   ],
   "source": [
    "# Qual o tamanho do documento - n. de itens?\n",
    "len(df)"
   ]
  },
  {
   "cell_type": "code",
   "execution_count": 16,
   "metadata": {},
   "outputs": [
    {
     "data": {
      "text/plain": [
       "(2639, 6)"
      ]
     },
     "execution_count": 16,
     "metadata": {},
     "output_type": "execute_result"
    }
   ],
   "source": [
    "# Quantas linhas e colunas o DataFrame tem?\n",
    "df.shape"
   ]
  },
  {
   "cell_type": "code",
   "execution_count": 17,
   "metadata": {},
   "outputs": [
    {
     "data": {
      "text/plain": [
       "Index(['ChannelTitle', 'PublishedAt', 'Title', 'Description', 'Id', 'Link'], dtype='object')"
      ]
     },
     "execution_count": 17,
     "metadata": {},
     "output_type": "execute_result"
    }
   ],
   "source": [
    "# Quais são as categorias levantadas/obsevadas?\n",
    "df.columns"
   ]
  },
  {
   "cell_type": "code",
   "execution_count": 18,
   "metadata": {},
   "outputs": [
    {
     "data": {
      "text/plain": [
       "ChannelTitle    2639\n",
       "PublishedAt     2639\n",
       "Title           2639\n",
       "Description      878\n",
       "Id              2639\n",
       "Link            2639\n",
       "dtype: int64"
      ]
     },
     "execution_count": 18,
     "metadata": {},
     "output_type": "execute_result"
    }
   ],
   "source": [
    "# Qual a quantidade de intens em cada uma das categorias obsevadas - colunas?\n",
    "df.count()"
   ]
  },
  {
   "cell_type": "code",
   "execution_count": 19,
   "metadata": {},
   "outputs": [
    {
     "data": {
      "text/html": [
       "<div>\n",
       "<style scoped>\n",
       "    .dataframe tbody tr th:only-of-type {\n",
       "        vertical-align: middle;\n",
       "    }\n",
       "\n",
       "    .dataframe tbody tr th {\n",
       "        vertical-align: top;\n",
       "    }\n",
       "\n",
       "    .dataframe thead th {\n",
       "        text-align: right;\n",
       "    }\n",
       "</style>\n",
       "<table border=\"1\" class=\"dataframe\">\n",
       "  <thead>\n",
       "    <tr style=\"text-align: right;\">\n",
       "      <th></th>\n",
       "      <th>ChannelTitle</th>\n",
       "      <th>PublishedAt</th>\n",
       "      <th>Title</th>\n",
       "      <th>Description</th>\n",
       "      <th>Id</th>\n",
       "      <th>Link</th>\n",
       "    </tr>\n",
       "  </thead>\n",
       "  <tbody>\n",
       "    <tr>\n",
       "      <th>0</th>\n",
       "      <td>Jair Bolsonaro</td>\n",
       "      <td>2021-03-03T12:41:36Z</td>\n",
       "      <td>Piauí: o Governo do Brasil entregou nesta terç...</td>\n",
       "      <td>No subtrecho que vai do povoado de Estaca Zero...</td>\n",
       "      <td>t4biNqt_v1o</td>\n",
       "      <td>https://www.youtube.com/watch?v=t4biNqt_v1o</td>\n",
       "    </tr>\n",
       "    <tr>\n",
       "      <th>1</th>\n",
       "      <td>Jair Bolsonaro</td>\n",
       "      <td>2021-03-02T18:45:53Z</td>\n",
       "      <td>Liberadas as águas do Eixo Norte da Integração...</td>\n",
       "      <td>O Ministério do Desenvolvimento Regional liber...</td>\n",
       "      <td>GMzbTvZhnAI</td>\n",
       "      <td>https://www.youtube.com/watch?v=GMzbTvZhnAI</td>\n",
       "    </tr>\n",
       "    <tr>\n",
       "      <th>2</th>\n",
       "      <td>Jair Bolsonaro</td>\n",
       "      <td>2021-03-02T02:04:57Z</td>\n",
       "      <td>- Combustíveis, tabela de imposto de renda, tu...</td>\n",
       "      <td>NaN</td>\n",
       "      <td>9jhTU5xLWU0</td>\n",
       "      <td>https://www.youtube.com/watch?v=9jhTU5xLWU0</td>\n",
       "    </tr>\n",
       "    <tr>\n",
       "      <th>3</th>\n",
       "      <td>Jair Bolsonaro</td>\n",
       "      <td>2021-03-01T08:33:52Z</td>\n",
       "      <td>- Diretamente da Índia, o lançamento o Amazôni...</td>\n",
       "      <td>- Sevirá também para monitorar nossa Amazônia....</td>\n",
       "      <td>_gQhQYP0w-k</td>\n",
       "      <td>https://www.youtube.com/watch?v=_gQhQYP0w-k</td>\n",
       "    </tr>\n",
       "    <tr>\n",
       "      <th>4</th>\n",
       "      <td>Jair Bolsonaro</td>\n",
       "      <td>2021-02-28T22:34:07Z</td>\n",
       "      <td>- O povo quer trabalhar. - Brasília/DF.</td>\n",
       "      <td>NaN</td>\n",
       "      <td>IdfoqQzcpbo</td>\n",
       "      <td>https://www.youtube.com/watch?v=IdfoqQzcpbo</td>\n",
       "    </tr>\n",
       "  </tbody>\n",
       "</table>\n",
       "</div>"
      ],
      "text/plain": [
       "     ChannelTitle           PublishedAt  \\\n",
       "0  Jair Bolsonaro  2021-03-03T12:41:36Z   \n",
       "1  Jair Bolsonaro  2021-03-02T18:45:53Z   \n",
       "2  Jair Bolsonaro  2021-03-02T02:04:57Z   \n",
       "3  Jair Bolsonaro  2021-03-01T08:33:52Z   \n",
       "4  Jair Bolsonaro  2021-02-28T22:34:07Z   \n",
       "\n",
       "                                               Title  \\\n",
       "0  Piauí: o Governo do Brasil entregou nesta terç...   \n",
       "1  Liberadas as águas do Eixo Norte da Integração...   \n",
       "2  - Combustíveis, tabela de imposto de renda, tu...   \n",
       "3  - Diretamente da Índia, o lançamento o Amazôni...   \n",
       "4            - O povo quer trabalhar. - Brasília/DF.   \n",
       "\n",
       "                                         Description           Id  \\\n",
       "0  No subtrecho que vai do povoado de Estaca Zero...  t4biNqt_v1o   \n",
       "1  O Ministério do Desenvolvimento Regional liber...  GMzbTvZhnAI   \n",
       "2                                                NaN  9jhTU5xLWU0   \n",
       "3  - Sevirá também para monitorar nossa Amazônia....  _gQhQYP0w-k   \n",
       "4                                                NaN  IdfoqQzcpbo   \n",
       "\n",
       "                                          Link  \n",
       "0  https://www.youtube.com/watch?v=t4biNqt_v1o  \n",
       "1  https://www.youtube.com/watch?v=GMzbTvZhnAI  \n",
       "2  https://www.youtube.com/watch?v=9jhTU5xLWU0  \n",
       "3  https://www.youtube.com/watch?v=_gQhQYP0w-k  \n",
       "4  https://www.youtube.com/watch?v=IdfoqQzcpbo  "
      ]
     },
     "execution_count": 19,
     "metadata": {},
     "output_type": "execute_result"
    }
   ],
   "source": [
    "# Quais são os 5 'primeiros' itens do documento - Os vídeos publicados recentemente?\n",
    "df.head(5)"
   ]
  },
  {
   "cell_type": "code",
   "execution_count": 20,
   "metadata": {
    "scrolled": true
   },
   "outputs": [
    {
     "data": {
      "text/html": [
       "<div>\n",
       "<style scoped>\n",
       "    .dataframe tbody tr th:only-of-type {\n",
       "        vertical-align: middle;\n",
       "    }\n",
       "\n",
       "    .dataframe tbody tr th {\n",
       "        vertical-align: top;\n",
       "    }\n",
       "\n",
       "    .dataframe thead th {\n",
       "        text-align: right;\n",
       "    }\n",
       "</style>\n",
       "<table border=\"1\" class=\"dataframe\">\n",
       "  <thead>\n",
       "    <tr style=\"text-align: right;\">\n",
       "      <th></th>\n",
       "      <th>ChannelTitle</th>\n",
       "      <th>PublishedAt</th>\n",
       "      <th>Title</th>\n",
       "      <th>Description</th>\n",
       "      <th>Id</th>\n",
       "      <th>Link</th>\n",
       "    </tr>\n",
       "  </thead>\n",
       "  <tbody>\n",
       "    <tr>\n",
       "      <th>2634</th>\n",
       "      <td>Jair Bolsonaro</td>\n",
       "      <td>2010-11-26T14:52:56Z</td>\n",
       "      <td>FAMILIA NA VISÃO DOS GAYS</td>\n",
       "      <td>NaN</td>\n",
       "      <td>ZizcEN_4x9w</td>\n",
       "      <td>https://www.youtube.com/watch?v=ZizcEN_4x9w</td>\n",
       "    </tr>\n",
       "    <tr>\n",
       "      <th>2635</th>\n",
       "      <td>Jair Bolsonaro</td>\n",
       "      <td>2010-11-25T16:30:39Z</td>\n",
       "      <td>Bolsonaro defende a família.</td>\n",
       "      <td>NaN</td>\n",
       "      <td>uG-MvfE3nCs</td>\n",
       "      <td>https://www.youtube.com/watch?v=uG-MvfE3nCs</td>\n",
       "    </tr>\n",
       "    <tr>\n",
       "      <th>2636</th>\n",
       "      <td>Jair Bolsonaro</td>\n",
       "      <td>2010-11-18T13:21:49Z</td>\n",
       "      <td>Segurança Pública</td>\n",
       "      <td>Por que eles matam?\\r\\nPorque nós somos covardes.</td>\n",
       "      <td>xZWwiJjGsao</td>\n",
       "      <td>https://www.youtube.com/watch?v=xZWwiJjGsao</td>\n",
       "    </tr>\n",
       "    <tr>\n",
       "      <th>2637</th>\n",
       "      <td>Jair Bolsonaro</td>\n",
       "      <td>2010-11-12T12:08:14Z</td>\n",
       "      <td>BOLSONARO E PNDH3</td>\n",
       "      <td>NaN</td>\n",
       "      <td>EWzeqhITpoM</td>\n",
       "      <td>https://www.youtube.com/watch?v=EWzeqhITpoM</td>\n",
       "    </tr>\n",
       "    <tr>\n",
       "      <th>2638</th>\n",
       "      <td>Jair Bolsonaro</td>\n",
       "      <td>2010-11-11T12:40:16Z</td>\n",
       "      <td>BOLSONARO FALA EM VEADOS E CITA DATENA</td>\n",
       "      <td>NaN</td>\n",
       "      <td>UkSBwk1Efp8</td>\n",
       "      <td>https://www.youtube.com/watch?v=UkSBwk1Efp8</td>\n",
       "    </tr>\n",
       "  </tbody>\n",
       "</table>\n",
       "</div>"
      ],
      "text/plain": [
       "        ChannelTitle           PublishedAt  \\\n",
       "2634  Jair Bolsonaro  2010-11-26T14:52:56Z   \n",
       "2635  Jair Bolsonaro  2010-11-25T16:30:39Z   \n",
       "2636  Jair Bolsonaro  2010-11-18T13:21:49Z   \n",
       "2637  Jair Bolsonaro  2010-11-12T12:08:14Z   \n",
       "2638  Jair Bolsonaro  2010-11-11T12:40:16Z   \n",
       "\n",
       "                                       Title  \\\n",
       "2634               FAMILIA NA VISÃO DOS GAYS   \n",
       "2635            Bolsonaro defende a família.   \n",
       "2636                       Segurança Pública   \n",
       "2637                       BOLSONARO E PNDH3   \n",
       "2638  BOLSONARO FALA EM VEADOS E CITA DATENA   \n",
       "\n",
       "                                            Description           Id  \\\n",
       "2634                                                NaN  ZizcEN_4x9w   \n",
       "2635                                                NaN  uG-MvfE3nCs   \n",
       "2636  Por que eles matam?\\r\\nPorque nós somos covardes.  xZWwiJjGsao   \n",
       "2637                                                NaN  EWzeqhITpoM   \n",
       "2638                                                NaN  UkSBwk1Efp8   \n",
       "\n",
       "                                             Link  \n",
       "2634  https://www.youtube.com/watch?v=ZizcEN_4x9w  \n",
       "2635  https://www.youtube.com/watch?v=uG-MvfE3nCs  \n",
       "2636  https://www.youtube.com/watch?v=xZWwiJjGsao  \n",
       "2637  https://www.youtube.com/watch?v=EWzeqhITpoM  \n",
       "2638  https://www.youtube.com/watch?v=UkSBwk1Efp8  "
      ]
     },
     "execution_count": 20,
     "metadata": {},
     "output_type": "execute_result"
    }
   ],
   "source": [
    "# Quais são os 5 'últimos itens' do documento - Os primeiros vídeos publicados no canal?\n",
    "df.tail(5)"
   ]
  },
  {
   "cell_type": "code",
   "execution_count": null,
   "metadata": {},
   "outputs": [],
   "source": []
  },
  {
   "cell_type": "code",
   "execution_count": null,
   "metadata": {},
   "outputs": [],
   "source": []
  },
  {
   "cell_type": "code",
   "execution_count": null,
   "metadata": {},
   "outputs": [],
   "source": []
  }
 ],
 "metadata": {
  "kernelspec": {
   "display_name": "Python 3",
   "language": "python",
   "name": "python3"
  },
  "language_info": {
   "codemirror_mode": {
    "name": "ipython",
    "version": 3
   },
   "file_extension": ".py",
   "mimetype": "text/x-python",
   "name": "python",
   "nbconvert_exporter": "python",
   "pygments_lexer": "ipython3",
   "version": "3.8.5"
  }
 },
 "nbformat": 4,
 "nbformat_minor": 4
}
